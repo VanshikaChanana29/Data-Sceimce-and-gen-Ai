{
 "cells": [
  {
   "cell_type": "code",
   "execution_count": 12,
   "id": "ddf723fd-9ee4-4118-bf6e-1b3c848c7635",
   "metadata": {},
   "outputs": [
    {
     "name": "stdout",
     "output_type": "stream",
     "text": [
      "ram\n",
      "vansh\n",
      "m\n",
      "['ram', 'kanika', 'kanya', 'rmp ', 'vansh']\n",
      "['kanika', 'kanya', 'rmp ', 'vansh']\n"
     ]
    }
   ],
   "source": [
    "#Answer 3\n",
    "# acess modify delete list in python\n",
    "name = [\"ram\" , \"sham\" , \"kanya\" , \"rmp \" , \"vansh\"]\n",
    "# acess of elements by indexing\n",
    "print(name[0])\n",
    "print(name[-1])\n",
    "print(name[0][2])\n",
    "name[1] = \"kanika\"\n",
    "print(name)\n",
    "name.pop(0)\n",
    "print(name)"
   ]
  },
  {
   "cell_type": "code",
   "execution_count": 15,
   "id": "779ecd42-0409-4c10-81f9-f81becc58b0a",
   "metadata": {},
   "outputs": [],
   "source": [
    "# Answer 4\n",
    "# list and tuple\n",
    "# list are an ordered collection of elements that are mutale and stored under [] braces\n",
    "# tuples are ordered collection of elements that are immutale and stored under () braces\n",
    "lists = [1,2,3,4,5]\n",
    "tuples = (2,3,4,5,\"name\")\n",
    "# both can store any data type \n",
    "# changed can e made in list ut not in tuple"
   ]
  },
  {
   "cell_type": "code",
   "execution_count": 18,
   "id": "2ddfdbb4-d098-4dbc-8e06-d9ad40b2893d",
   "metadata": {},
   "outputs": [
    {
     "name": "stdout",
     "output_type": "stream",
     "text": [
      "None\n",
      "1\n",
      "{2, 3, 4, 6, 7, 8, 9}\n",
      "{8}\n",
      "{9, 6, 7}\n",
      "{2, 3, 4, 6, 7, 9}\n"
     ]
    }
   ],
   "source": [
    "# Answer 5\n",
    "# sets : set are the unordered collection of unique elements which is stored in {} braces\n",
    "# key features : \n",
    "# doesnt allow duplicate elements \n",
    "#  add() , pop() , remove() , update()\n",
    "# key opeartions includes : union(A|B) , intersection(A&B) , setdiffrence(A-B) , symmetricdiffrence (A^B)\n",
    "s = {1,2,3,4,5,6}\n",
    "print(s.add(9))\n",
    "print(s.pop())\n",
    "a = {9,8,7,6}\n",
    "n = {3,4,8,2}\n",
    "print(a|n)\n",
    "print(a&n)\n",
    "print(a-n)\n",
    "print(a^n)"
   ]
  },
  {
   "cell_type": "code",
   "execution_count": 20,
   "id": "816f17eb-d73d-4d4a-8811-3930bbce3a6a",
   "metadata": {},
   "outputs": [
    {
     "name": "stdout",
     "output_type": "stream",
     "text": [
      "valid user\n"
     ]
    }
   ],
   "source": [
    "# Answer 6\n",
    "# use case of tuples and sets \n",
    "# tuples = fixed collections , unpacking\n",
    "point = (2,3)\n",
    "x,y = point\n",
    "# sets : memership testing , remove duplicates , set operations\n",
    "user = 102\n",
    "ids = {101 , 102, 103}\n",
    "if user in ids:\n",
    "    print(\"valid user\")"
   ]
  },
  {
   "cell_type": "code",
   "execution_count": 22,
   "id": "30d819be-25d2-4712-985f-31308a30cc86",
   "metadata": {},
   "outputs": [
    {
     "name": "stdout",
     "output_type": "stream",
     "text": [
      "{'name': 'Ajay', 'class': 'second', 'School': 'sophia', 'city': 'kanpur'}\n",
      "{'name': 'Ajay', 'class': 'first', 'School': 'sophia', 'city': 'kanpur'}\n",
      "{'name': 'Ajay', 'class': 'first', 'city': 'kanpur'}\n"
     ]
    }
   ],
   "source": [
    "# Answer 7\n",
    "# dictionary : data structure that stores values in key value pair \n",
    "# they are mutale and unique \n",
    "# add , modify , delete\n",
    "dic = {\"name\" : \"Ajay\" , \"class\" : \"second\" , \"School\" : \"sophia\"}\n",
    "# add\n",
    "dic[\"city\"] = \"kanpur\"\n",
    "print(dic)\n",
    "# modify\n",
    "dic[\"class\"] = \"first\"\n",
    "print(dic)\n",
    "# delete\n",
    "del dic[\"School\"]\n",
    "print(dic)"
   ]
  },
  {
   "cell_type": "code",
   "execution_count": 24,
   "id": "aa1dac96-2dca-408f-9bf9-7436ef3b1a54",
   "metadata": {},
   "outputs": [
    {
     "name": "stdout",
     "output_type": "stream",
     "text": [
      "Ajay\n",
      "2\n",
      "kanpur\n"
     ]
    }
   ],
   "source": [
    "# Answer 8\n",
    "# importance of dictionary keys being immutale and provide examples\n",
    "# example of Immutable keys\n",
    "# strings as keys\n",
    "person = {\"name\" : \"Ajay\" , \"class\" : \"second\" , \"School\" : \"sophia\"}\n",
    "print(person[\"name\"])\n",
    "# numbers as keys\n",
    "sq = {1:1 , 2:2 , 3:3}\n",
    "print(sq[2])\n",
    "# tuples as keys\n",
    "c = {(0,0): \"origin\" , (1,0):\"kanpur\" }\n",
    "print(c[(1,0)])\n"
   ]
  },
  {
   "cell_type": "code",
   "execution_count": 25,
   "id": "a64a3538-0739-4f9a-bbdf-ec8bd67d1139",
   "metadata": {},
   "outputs": [
    {
     "name": "stdout",
     "output_type": "stream",
     "text": [
      "7\n",
      "[2, 4]\n",
      "[2, 3, 4, 5, 6, 7]\n"
     ]
    }
   ],
   "source": [
    "# Answer 1\n",
    "# string slicing and examples\n",
    "string = [1,2,3,4,5,6,7]\n",
    "# slicing refers to getting an substring from an string \n",
    "print(string[-1])\n",
    "# range featues in slicing : syntax (start , end , step)\n",
    "print(string[1:5:2])\n",
    "print(string[1:])"
   ]
  },
  {
   "cell_type": "code",
   "execution_count": 27,
   "id": "7ccb136d-a1d6-44d4-9ccb-1d047e69a586",
   "metadata": {},
   "outputs": [
    {
     "name": "stdout",
     "output_type": "stream",
     "text": [
      "None\n",
      "None\n",
      "None\n",
      "[4, 6, 8, 10, 12]\n"
     ]
    }
   ],
   "source": [
    "# Answer 2\n",
    "# key featues of lists in python \n",
    "# ordered collection of items , [] , mutable\n",
    "# Accesiilty can be done by slicing\n",
    "# operations : append , insert , extends \n",
    "lists = [1,2,3,4,5,6,7,\"name\"]\n",
    "print(lists.append(98))\n",
    "print(lists.insert(1,\"potato\"))\n",
    "lists2 = [4,5,6,7,8]\n",
    "print(lists.extend(lists2))\n",
    "# list comprehension\n",
    "prices = [2,3,4,5,6]\n",
    "print([price * 2 for price in prices])\n"
   ]
  },
  {
   "cell_type": "code",
   "execution_count": null,
   "id": "95ef0b17-fa2f-403f-9110-9b1a8497c328",
   "metadata": {},
   "outputs": [],
   "source": []
  }
 ],
 "metadata": {
  "kernelspec": {
   "display_name": "Python 3 (ipykernel)",
   "language": "python",
   "name": "python3"
  },
  "language_info": {
   "codemirror_mode": {
    "name": "ipython",
    "version": 3
   },
   "file_extension": ".py",
   "mimetype": "text/x-python",
   "name": "python",
   "nbconvert_exporter": "python",
   "pygments_lexer": "ipython3",
   "version": "3.10.8"
  }
 },
 "nbformat": 4,
 "nbformat_minor": 5
}
